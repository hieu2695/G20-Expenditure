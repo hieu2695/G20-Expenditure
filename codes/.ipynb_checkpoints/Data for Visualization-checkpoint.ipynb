{
 "cells": [
  {
   "cell_type": "markdown",
   "metadata": {},
   "source": [
    "### In this notebook, we create some dataframes from cleaned datasets to support data visualization."
   ]
  },
  {
   "cell_type": "code",
   "execution_count": 1,
   "metadata": {},
   "outputs": [],
   "source": [
    "from pandas import DataFrame\n",
    "import pandas as pd\n",
    "import matplotlib.pyplot as plt\n",
    "import numpy as np\n",
    "import warnings\n",
    "warnings.filterwarnings(\"ignore\")"
   ]
  },
  {
   "cell_type": "code",
   "execution_count": 2,
   "metadata": {},
   "outputs": [],
   "source": [
    "# list of countries\n",
    "country_names = [\"Australia\",\"Canada\",\"France\",\"Germany\",\"Italy\",\"Japan\",\"South Korea\",\"Mexico\",\"United Kingdom\",\n",
    "                 \"United States\", \"Brazil\",\"India\",\"Indonesia\",\"Russia\",\"South Africa\",\"Turkey\",\"China\",\"Argentina\",\"Saudi Arabia\"]"
   ]
  },
  {
   "cell_type": "code",
   "execution_count": 3,
   "metadata": {},
   "outputs": [],
   "source": [
    "years = [\"2011\",\"2012\",\"2013\",\"2014\",\"2015\",\"2016\",\"total\"] # get list of years "
   ]
  },
  {
   "cell_type": "code",
   "execution_count": 4,
   "metadata": {},
   "outputs": [],
   "source": [
    "fields = [\"Military\",\"Health\",\"Education\"] # list of categories"
   ]
  },
  {
   "cell_type": "markdown",
   "metadata": {},
   "source": [
    "### Total Expenditure by Military, Health, Education"
   ]
  },
  {
   "cell_type": "code",
   "execution_count": 5,
   "metadata": {},
   "outputs": [],
   "source": [
    "military_total = pd.read_csv(\"../data/cleaned data/military_total.csv\") # read csv files\n",
    "health_total = pd.read_csv(\"../data/cleaned data/health_total.csv\")\n",
    "education_total = pd.read_csv(\"../data/cleaned data/education_total.csv\")"
   ]
  },
  {
   "cell_type": "code",
   "execution_count": 6,
   "metadata": {},
   "outputs": [],
   "source": [
    "total_spend = pd.DataFrame(index=np.arange(len(years)*len(country_names)),\n",
    "                           columns = [\"Country\",\"Year\",\"Military\",\"Health\",\"Education\"]) # create a dataframe"
   ]
  },
  {
   "cell_type": "code",
   "execution_count": 7,
   "metadata": {},
   "outputs": [],
   "source": [
    "# retrieve the values for the dataframe from the 3 datasets above\n",
    "for i in range (0, len(country_names)*len(years), len(country_names)):\n",
    "    for j in range(0, len(country_names)):\n",
    "        k = int(i/len(country_names))\n",
    "        total_spend.ix[i + j, \"Year\"] = years[k]\n",
    "        total_spend.ix[i + j, \"Country\"] = country_names[j]\n",
    "        \n",
    "        total_spend.ix[i + j, \"Military\"] = float(military_total[military_total.Country == country_names[j]][years[k]])\n",
    "        \n",
    "        total_spend.ix[i + j, \"Health\"] = float(health_total[health_total.Country == country_names[j]][years[k]])\n",
    "        \n",
    "        total_spend.ix[i + j, \"Education\"] = float(education_total[education_total.Country == country_names[j]][years[k]])\n",
    "    \n",
    "    \n",
    "    \n",
    "  "
   ]
  },
  {
   "cell_type": "code",
   "execution_count": 8,
   "metadata": {},
   "outputs": [],
   "source": [
    "total_spend.set_index(['Country','Year'], inplace = True) # set index\n",
    "total_spend = total_spend / (10e+9) # change number format, in this case we want spending amount as billions \n",
    "total_spend.reset_index(drop=False, inplace=True)"
   ]
  },
  {
   "cell_type": "code",
   "execution_count": 9,
   "metadata": {},
   "outputs": [],
   "source": [
    "for i in ['Military','Health','Education']:\n",
    "    total_spend[i] = total_spend[i].apply(lambda x: round(x, 2)) # round to two digits after decimal"
   ]
  },
  {
   "cell_type": "code",
   "execution_count": 10,
   "metadata": {},
   "outputs": [],
   "source": [
    "total_spend.to_csv(path_or_buf=\"../data/datasets/total_spend.csv\", index = False) # save dataframe without index"
   ]
  },
  {
   "cell_type": "code",
   "execution_count": 11,
   "metadata": {},
   "outputs": [],
   "source": [
    "years = [\"2011\",\"2012\",\"2013\",\"2014\",\"2015\",\"2016\"] # a new list of years excluding total"
   ]
  },
  {
   "cell_type": "markdown",
   "metadata": {},
   "source": [
    "### Absolute Expenditure Growth"
   ]
  },
  {
   "cell_type": "code",
   "execution_count": 12,
   "metadata": {},
   "outputs": [],
   "source": [
    "# create a dataframe with defined columns and number of rows\n",
    "total_spend_grow = pd.DataFrame(index=np.arange(len(years)*len(fields)),\n",
    "                           columns = [\"Field\",\"Year\",\"Australia\",\"Canada\",\"France\",\"Germany\",\"Italy\",\"Japan\",\"South Korea\",\"Mexico\",\"United Kingdom\",\"United States\",\n",
    "                \"Brazil\",\"India\",\"Indonesia\",\"Russia\",\"South Africa\",\"Turkey\",\"China\",\"Argentina\",\"Saudi Arabia\"])"
   ]
  },
  {
   "cell_type": "code",
   "execution_count": 13,
   "metadata": {},
   "outputs": [],
   "source": [
    "# get the values for the dataframe\n",
    "for i in range (0, len(fields)*len(years), len(years)):\n",
    "    for j in range(0, len(years)):\n",
    "        k = int(i/len(years))\n",
    "        total_spend_grow.ix[i + j, \"Field\"] = fields[k]\n",
    "        total_spend_grow.ix[i + j, \"Year\"] = years[j]\n",
    "        for name in country_names:\n",
    "            if total_spend_grow.ix[i + j, \"Field\"] == \"Military\":\n",
    "                total_spend_grow.ix[i + j, name] = float(military_total[military_total.Country == name][years[j]])\n",
    "            elif total_spend_grow.ix[i + j, \"Field\"] == \"Health\":\n",
    "                total_spend_grow.ix[i + j, name] = float(health_total[military_total.Country == name][years[j]])\n",
    "            else:\n",
    "                total_spend_grow.ix[i + j, name] = float(education_total[military_total.Country == name][years[j]])\n",
    "                \n",
    "        "
   ]
  },
  {
   "cell_type": "code",
   "execution_count": 14,
   "metadata": {},
   "outputs": [],
   "source": [
    "total_spend_grow.set_index(['Field','Year'], inplace = True)\n",
    "total_spend_grow = total_spend_grow / (10e+9)  # change format to billions\n",
    "total_spend_grow.reset_index(drop=False, inplace=True)\n",
    "for i in country_names:\n",
    "    total_spend_grow[i] = total_spend_grow[i].apply(lambda x: round(x, 2)) # round to two digits after decimal"
   ]
  },
  {
   "cell_type": "code",
   "execution_count": 15,
   "metadata": {},
   "outputs": [],
   "source": [
    "total_spend_grow.to_csv(path_or_buf=\"../data/datasets/total_spend_grow.csv\", index = False)"
   ]
  },
  {
   "cell_type": "markdown",
   "metadata": {},
   "source": [
    "### Share of GDP"
   ]
  },
  {
   "cell_type": "code",
   "execution_count": 16,
   "metadata": {},
   "outputs": [],
   "source": [
    "military_pct = pd.read_csv(\"../data/cleaned data/military_pct.csv\")\n",
    "health_pct = pd.read_csv(\"../data/cleaned data/health_pct.csv\")\n",
    "education_pct = pd.read_csv(\"../data/cleaned data/education_pct.csv\")"
   ]
  },
  {
   "cell_type": "code",
   "execution_count": 17,
   "metadata": {},
   "outputs": [],
   "source": [
    "shareGDP = pd.DataFrame(index=np.arange(len(years)*len(country_names)),\n",
    "                           columns = [\"Country\",\"Year\",\"Military\",\"Health\",\"Education\"])"
   ]
  },
  {
   "cell_type": "code",
   "execution_count": 18,
   "metadata": {},
   "outputs": [],
   "source": [
    "for i in range (0, len(country_names)*len(years), len(country_names)):\n",
    "    for j in range(0, len(country_names)):\n",
    "        k = int(i/len(country_names))\n",
    "        shareGDP.ix[i + j, \"Year\"] = years[k]\n",
    "        shareGDP.ix[i + j, \"Country\"] = country_names[j]\n",
    "        \n",
    "        shareGDP.ix[i + j, \"Military\"] = float(military_pct[military_pct.Country == country_names[j]][years[k]])\n",
    "        \n",
    "        shareGDP.ix[i + j, \"Health\"] = float(health_pct[health_pct.Country == country_names[j]][years[k]])\n",
    "        \n",
    "        shareGDP.ix[i + j, \"Education\"] = float(education_pct[education_pct.Country == country_names[j]][years[k]])\n",
    "    "
   ]
  },
  {
   "cell_type": "code",
   "execution_count": 19,
   "metadata": {},
   "outputs": [],
   "source": [
    "# get another column as average share of GDP for all 3 categories \n",
    "# row without education data will be ignored when calculating\n",
    "shareGDP[\"Average\"] = shareGDP[[\"Military\",\"Health\",\"Education\"]].mean(1)"
   ]
  },
  {
   "cell_type": "code",
   "execution_count": 20,
   "metadata": {},
   "outputs": [],
   "source": [
    "shareGDP.set_index(['Country','Year'], inplace = True)\n",
    "shareGDP = shareGDP * 100\n",
    "for i in shareGDP.columns:\n",
    "    shareGDP[i] = shareGDP[i].apply(lambda x: round(x, 2)) # when shown as % there will be 2 digits after decimal\n",
    "\n",
    "shareGDP.reset_index(drop=False, inplace=True)"
   ]
  },
  {
   "cell_type": "code",
   "execution_count": 21,
   "metadata": {},
   "outputs": [],
   "source": [
    "shareGDP.to_csv(path_or_buf=\"../data/datasets/shareGDP.csv\", index = False)"
   ]
  },
  {
   "cell_type": "markdown",
   "metadata": {},
   "source": [
    "### Expenditure Per Capita"
   ]
  },
  {
   "cell_type": "code",
   "execution_count": 22,
   "metadata": {},
   "outputs": [],
   "source": [
    "military_pp = pd.read_csv(\"../data/cleaned data/military_pp.csv\")\n",
    "health_pp = pd.read_csv(\"../data/cleaned data/health_pp.csv\")\n",
    "education_pp = pd.read_csv(\"../data/cleaned data/education_pp.csv\")"
   ]
  },
  {
   "cell_type": "code",
   "execution_count": 23,
   "metadata": {},
   "outputs": [],
   "source": [
    "capita_spend = pd.DataFrame(index=np.arange(len(years)*len(country_names)),\n",
    "                           columns = [\"Country\",\"Year\",\"Military\",\"Health\",\"Education\"])"
   ]
  },
  {
   "cell_type": "code",
   "execution_count": 24,
   "metadata": {},
   "outputs": [],
   "source": [
    "for i in range (0, len(country_names)*len(years), len(country_names)):\n",
    "    for j in range(0, len(country_names)):\n",
    "        k = int(i/len(country_names))\n",
    "        capita_spend.ix[i + j, \"Year\"] = years[k]\n",
    "        capita_spend.ix[i + j, \"Country\"] = country_names[j]\n",
    "        \n",
    "        capita_spend.ix[i + j, \"Military\"] = float(military_pp[military_pp.Country == country_names[j]][years[k]])\n",
    "        \n",
    "        capita_spend.ix[i + j, \"Health\"] = float(health_pp[health_pp.Country == country_names[j]][years[k]])\n",
    "        \n",
    "        capita_spend.ix[i + j, \"Education\"] = float(education_pp[education_pp.Country == country_names[j]][years[k]])\n",
    "    "
   ]
  },
  {
   "cell_type": "code",
   "execution_count": 25,
   "metadata": {},
   "outputs": [],
   "source": [
    "for i in ['Military','Health','Education']:\n",
    "    capita_spend[i] = capita_spend[i].apply(lambda x: round(x, 2))"
   ]
  },
  {
   "cell_type": "code",
   "execution_count": 26,
   "metadata": {},
   "outputs": [],
   "source": [
    "capita_spend.to_csv(path_or_buf=\"../data/datasets/capita_spend.csv\", index = False)"
   ]
  },
  {
   "cell_type": "markdown",
   "metadata": {},
   "source": [
    "### Expenditure Change"
   ]
  },
  {
   "cell_type": "code",
   "execution_count": 27,
   "metadata": {},
   "outputs": [],
   "source": [
    "# read csv and save to dataframe\n",
    "military_change = pd.read_csv(\"../data/cleaned data/military_change.csv\")\n",
    "health_change = pd.read_csv(\"../data/cleaned data/health_change.csv\")\n",
    "education_change = pd.read_csv(\"../data/cleaned data/education_change.csv\")"
   ]
  },
  {
   "cell_type": "code",
   "execution_count": 28,
   "metadata": {},
   "outputs": [],
   "source": [
    "military_change['Field'] = \"Military\"   # adding another column that specify the field in each dataframe\n",
    "health_change['Field'] = \"Health\"\n",
    "education_change['Field'] = \"Education\"\n"
   ]
  },
  {
   "cell_type": "code",
   "execution_count": 29,
   "metadata": {},
   "outputs": [],
   "source": [
    "total_change = pd.concat([military_change,health_change,education_change]) # combine 3 dataframes into one"
   ]
  },
  {
   "cell_type": "code",
   "execution_count": 30,
   "metadata": {},
   "outputs": [],
   "source": [
    "total_change.set_index(['Country','Field'], inplace = True)\n",
    "total_change = total_change/ (10e+6)  # format spending amount to millions\n",
    "for i in total_change.columns:\n",
    "    total_change[i] = total_change[i].apply(lambda x: round(x, 2)) # round to 2 digits after decimal\n",
    "\n",
    "total_change.reset_index(drop=False, inplace=True)"
   ]
  },
  {
   "cell_type": "code",
   "execution_count": 31,
   "metadata": {},
   "outputs": [],
   "source": [
    "total_change.to_csv(path_or_buf=\"../data/datasets/total_change.csv\", index = False)"
   ]
  },
  {
   "cell_type": "code",
   "execution_count": 32,
   "metadata": {},
   "outputs": [],
   "source": [
    "# in the next parts, we use similar methods to create datasets for visualization"
   ]
  },
  {
   "cell_type": "markdown",
   "metadata": {},
   "source": [
    "### Pecentage Change"
   ]
  },
  {
   "cell_type": "code",
   "execution_count": 33,
   "metadata": {},
   "outputs": [],
   "source": [
    "military_change_pct = pd.read_csv(\"../data/cleaned data/military_change_pct.csv\")\n",
    "health_change_pct = pd.read_csv(\"../data/cleaned data/health_change_pct.csv\")\n",
    "education_change_pct = pd.read_csv(\"../data/cleaned data/education_change_pct.csv\")"
   ]
  },
  {
   "cell_type": "code",
   "execution_count": 34,
   "metadata": {},
   "outputs": [],
   "source": [
    "military_change_pct['Field'] = \"Military\"\n",
    "health_change_pct['Field'] = \"Health\"\n",
    "education_change_pct['Field'] = \"Education\""
   ]
  },
  {
   "cell_type": "code",
   "execution_count": 35,
   "metadata": {},
   "outputs": [],
   "source": [
    "pct_change = pd.concat([military_change_pct,health_change_pct,education_change_pct])"
   ]
  },
  {
   "cell_type": "code",
   "execution_count": 36,
   "metadata": {},
   "outputs": [],
   "source": [
    "pct_change.set_index(['Country','Field'], inplace = True)\n",
    "for i in pct_change.columns:\n",
    "    pct_change[i] = pct_change[i].apply(lambda x: round(x, 4))\n",
    "\n",
    "pct_change.reset_index(drop=False, inplace=True)"
   ]
  },
  {
   "cell_type": "code",
   "execution_count": 37,
   "metadata": {},
   "outputs": [],
   "source": [
    "pct_change.to_csv(path_or_buf=\"../data/datasets/pct_change.csv\", index = False)"
   ]
  },
  {
   "cell_type": "markdown",
   "metadata": {},
   "source": [
    "### Total Expenditure by Years"
   ]
  },
  {
   "cell_type": "code",
   "execution_count": 38,
   "metadata": {},
   "outputs": [],
   "source": [
    "military_total['Field'] = \"Military\"\n",
    "health_total['Field'] = \"Health\"\n",
    "education_total['Field'] = \"Education\""
   ]
  },
  {
   "cell_type": "code",
   "execution_count": 39,
   "metadata": {},
   "outputs": [],
   "source": [
    "total_spend_trend = pd.concat([military_total,health_total,education_total])"
   ]
  },
  {
   "cell_type": "code",
   "execution_count": 40,
   "metadata": {},
   "outputs": [],
   "source": [
    "total_spend_trend.set_index(['Country','Field'], inplace = True)\n",
    "total_spend_trend = total_spend_trend/ (10e+9)\n",
    "for i in total_spend_trend.columns:\n",
    "    total_spend_trend[i] = total_spend_trend[i].apply(lambda x: round(x, 2))\n",
    "\n",
    "total_spend_trend.reset_index(drop=False, inplace=True)"
   ]
  },
  {
   "cell_type": "code",
   "execution_count": 41,
   "metadata": {},
   "outputs": [],
   "source": [
    "total_spend_trend.to_csv(path_or_buf=\"../data/datasets/total_spend_trend.csv\", index = False)"
   ]
  },
  {
   "cell_type": "markdown",
   "metadata": {},
   "source": [
    "### Expenditure per Capita by Years"
   ]
  },
  {
   "cell_type": "code",
   "execution_count": 42,
   "metadata": {},
   "outputs": [],
   "source": [
    "military_pp['Field'] = \"Military\"\n",
    "health_pp['Field'] = \"Health\"\n",
    "education_pp['Field'] = \"Education\""
   ]
  },
  {
   "cell_type": "code",
   "execution_count": 43,
   "metadata": {},
   "outputs": [],
   "source": [
    "capita_spend_trend = pd.concat([military_pp,health_pp,education_pp])"
   ]
  },
  {
   "cell_type": "code",
   "execution_count": 44,
   "metadata": {},
   "outputs": [],
   "source": [
    "capita_spend_trend.set_index(['Country','Field'], inplace = True)\n",
    "for i in capita_spend_trend.columns:\n",
    "    capita_spend_trend[i] = capita_spend_trend[i].apply(lambda x: round(x, 2))\n",
    "\n",
    "capita_spend_trend.reset_index(drop=False, inplace=True)"
   ]
  },
  {
   "cell_type": "code",
   "execution_count": 45,
   "metadata": {},
   "outputs": [],
   "source": [
    "capita_spend_trend.to_csv(path_or_buf=\"../data/datasets/capita_spend_trend.csv\", index = False)"
   ]
  },
  {
   "cell_type": "code",
   "execution_count": 46,
   "metadata": {},
   "outputs": [],
   "source": [
    "capita_spend_grow1 = pd.DataFrame(index=np.arange(len(years)*len(country_names)),\n",
    "                           columns = [\"Country\",\"Year\",\"Amount\"])\n",
    "capita_spend_grow2 = pd.DataFrame(index=np.arange(len(years)*len(country_names)),\n",
    "                           columns = [\"Country\",\"Year\",\"Amount\"])\n",
    "capita_spend_grow3 = pd.DataFrame(index=np.arange(len(years)*len(country_names)),\n",
    "                           columns = [\"Country\",\"Year\",\"Amount\"])"
   ]
  },
  {
   "cell_type": "code",
   "execution_count": 47,
   "metadata": {},
   "outputs": [],
   "source": [
    "for i in range (0, len(country_names)*len(years), len(country_names)):\n",
    "    for j in range(0, len(country_names)):\n",
    "        k = int(i/len(country_names))\n",
    "        capita_spend_grow1.ix[i + j, \"Year\"] = years[k]\n",
    "        capita_spend_grow1.ix[i + j, \"Country\"] = country_names[j]\n",
    "        \n",
    "        capita_spend_grow1.ix[i + j, \"Amount\"] = float(military_pp[military_pp.Country == country_names[j]][years[k]])\n",
    "        \n",
    "for i in range (0, len(country_names)*len(years), len(country_names)):\n",
    "    for j in range(0, len(country_names)):\n",
    "        k = int(i/len(country_names))\n",
    "        capita_spend_grow2.ix[i + j, \"Year\"] = years[k]\n",
    "        capita_spend_grow2.ix[i + j, \"Country\"] = country_names[j]\n",
    "        \n",
    "        capita_spend_grow2.ix[i + j, \"Amount\"] = float(health_pp[health_pp.Country == country_names[j]][years[k]])\n",
    "        \n",
    "        \n",
    "        \n",
    "for i in range (0, len(country_names)*len(years), len(country_names)):\n",
    "    for j in range(0, len(country_names)):\n",
    "        k = int(i/len(country_names))\n",
    "        capita_spend_grow3.ix[i + j, \"Year\"] = years[k]\n",
    "        capita_spend_grow3.ix[i + j, \"Country\"] = country_names[j]\n",
    "        \n",
    "        capita_spend_grow3.ix[i + j, \"Amount\"] = float(education_pp[education_pp.Country == country_names[j]][years[k]])\n",
    "        \n",
    "        "
   ]
  },
  {
   "cell_type": "code",
   "execution_count": 48,
   "metadata": {},
   "outputs": [],
   "source": [
    "capita_spend_grow1[\"Field\"] = \"Military\"\n",
    "capita_spend_grow2[\"Field\"] = \"Health\"\n",
    "capita_spend_grow3[\"Field\"] = \"Education\"\n"
   ]
  },
  {
   "cell_type": "code",
   "execution_count": 49,
   "metadata": {},
   "outputs": [],
   "source": [
    "capita_spend_grow = pd.concat([capita_spend_grow1, capita_spend_grow2, capita_spend_grow3])"
   ]
  },
  {
   "cell_type": "code",
   "execution_count": 50,
   "metadata": {},
   "outputs": [],
   "source": [
    "capita_spend_grow.to_csv(path_or_buf=\"../data/datasets/capita_spend_grow.csv\", index = False)"
   ]
  }
 ],
 "metadata": {
  "kernelspec": {
   "display_name": "Python 3",
   "language": "python",
   "name": "python3"
  },
  "language_info": {
   "codemirror_mode": {
    "name": "ipython",
    "version": 3
   },
   "file_extension": ".py",
   "mimetype": "text/x-python",
   "name": "python",
   "nbconvert_exporter": "python",
   "pygments_lexer": "ipython3",
   "version": "3.7.4"
  }
 },
 "nbformat": 4,
 "nbformat_minor": 2
}
