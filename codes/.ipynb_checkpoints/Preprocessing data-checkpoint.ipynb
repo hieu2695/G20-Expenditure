{
 "cells": [
  {
   "cell_type": "code",
   "execution_count": 1,
   "metadata": {},
   "outputs": [],
   "source": [
    "from pandas import DataFrame\n",
    "import pandas as pd\n",
    "import matplotlib.pyplot as plt\n",
    "import numpy as np\n",
    "import warnings\n",
    "warnings.filterwarnings(\"ignore\")"
   ]
  },
  {
   "cell_type": "code",
   "execution_count": 2,
   "metadata": {},
   "outputs": [],
   "source": [
    "G20_codes = [\"AUS\",\"CAN\",\"FRA\",\"DEU\",\"ITA\",\"JPN\",\"KOR\",\"MEX\",\"GBR\",\"USA\",\n",
    "             \"BRA\",\"IND\",\"IDN\",\"RUS\",\"ZAF\",\"TUR\",\"CHN\",\"ARG\",\"SAU\"]\n",
    "years = [\"2011\",\"2012\",\"2013\",\"2014\",\"2015\",\"2016\"]"
   ]
  },
  {
   "cell_type": "code",
   "execution_count": 3,
   "metadata": {},
   "outputs": [],
   "source": [
    "country_names = [\"Australia\",\"Canada\",\"France\",\"Germany\",\"Italy\",\"Japan\",\"South Korea\",\"Mexico\",\"United Kingdom\",\"United States\",\n",
    "                \"Brazil\",\"India\",\"Indonesia\",\"Russia\",\"South Africa\",\"Turkey\",\"China\",\"Argentina\",\"Saudi Arabia\"]"
   ]
  },
  {
   "cell_type": "code",
   "execution_count": 4,
   "metadata": {},
   "outputs": [],
   "source": [
    "def read_data(data_path, header, index):\n",
    "    df = pd.read_csv(data_path, header = header, index_col = index)\n",
    "    df = df.loc[G20_codes, years]\n",
    "    return df\n",
    "    "
   ]
  },
  {
   "cell_type": "code",
   "execution_count": 5,
   "metadata": {},
   "outputs": [],
   "source": [
    "def change_abs(df):\n",
    "    df1 = df.loc[:,[\"2012\",\"2013\",\"2014\",\"2015\",\"2016\"]]\n",
    "    df2 = df.loc[:,[\"2011\",\"2012\",\"2013\",\"2014\",\"2015\"]]\n",
    "    df2.columns = [\"2012\",\"2013\",\"2014\",\"2015\",\"2016\"]\n",
    "    df_dif = df1 - df2\n",
    "    df_dif[\"Annual Change\"] = df_dif.loc[:,\"2012\":\"2016\"].mean(1)\n",
    "    return df_dif\n",
    "\n",
    "def change_pct(df):\n",
    "    df1 = df.loc[:,[\"2012\",\"2013\",\"2014\",\"2015\",\"2016\"]]\n",
    "    df2 = df.loc[:,[\"2011\",\"2012\",\"2013\",\"2014\",\"2015\"]]\n",
    "    df2.columns = [\"2012\",\"2013\",\"2014\",\"2015\",\"2016\"]\n",
    "    df_dif = df1 - df2\n",
    "    df_dif_pct = df_dif / df2\n",
    "    return df_dif_pct\n",
    "    "
   ]
  },
  {
   "cell_type": "markdown",
   "metadata": {},
   "source": [
    "### GDP"
   ]
  },
  {
   "cell_type": "code",
   "execution_count": 6,
   "metadata": {},
   "outputs": [],
   "source": [
    "GDP_total = read_data(\"../data/raw data/GDP.csv\", 2, 1)\n",
    "#GDP_total"
   ]
  },
  {
   "cell_type": "code",
   "execution_count": 7,
   "metadata": {},
   "outputs": [],
   "source": [
    "GDP_pp = read_data(\"../data/raw data/GDPpp.csv\", 2, 1)\n",
    "#GDP_pp"
   ]
  },
  {
   "cell_type": "markdown",
   "metadata": {},
   "source": [
    "### Military Expenditure"
   ]
  },
  {
   "cell_type": "code",
   "execution_count": 8,
   "metadata": {},
   "outputs": [],
   "source": [
    "military_total = read_data(\"../data/raw data/Military.csv\", 2, 1)\n",
    "military_total[\"total\"] = military_total.loc[:,years].sum(1)\n",
    "#military_total"
   ]
  },
  {
   "cell_type": "code",
   "execution_count": 9,
   "metadata": {},
   "outputs": [],
   "source": [
    "military_pct = read_data(\"../data/raw data/Military%GDP.csv\", 2, 1)\n",
    "#military_pct\n",
    "military_pct = military_pct / 100"
   ]
  },
  {
   "cell_type": "code",
   "execution_count": 10,
   "metadata": {},
   "outputs": [],
   "source": [
    "military_pp = GDP_pp * military_pct \n",
    "#military_pp"
   ]
  },
  {
   "cell_type": "code",
   "execution_count": 11,
   "metadata": {},
   "outputs": [],
   "source": [
    "military_change = change_abs(military_total)\n",
    "#military_change"
   ]
  },
  {
   "cell_type": "code",
   "execution_count": 12,
   "metadata": {},
   "outputs": [],
   "source": [
    "military_change_pct = change_pct(military_total)\n",
    "#military_change_pct"
   ]
  },
  {
   "cell_type": "markdown",
   "metadata": {},
   "source": [
    "### Education Expenditure"
   ]
  },
  {
   "cell_type": "code",
   "execution_count": 13,
   "metadata": {},
   "outputs": [],
   "source": [
    "education_pct = read_data(\"../data/raw data/Education%GDP.csv\", 2, 1)\n",
    "#education_pct\n",
    "education_pct = education_pct / 100"
   ]
  },
  {
   "cell_type": "code",
   "execution_count": 14,
   "metadata": {},
   "outputs": [],
   "source": [
    "education_total = GDP_total * education_pct \n",
    "education_total[\"total\"] = education_total.loc[:,years].sum(1)\n",
    "#education_total"
   ]
  },
  {
   "cell_type": "code",
   "execution_count": 15,
   "metadata": {},
   "outputs": [],
   "source": [
    "education_pp = GDP_pp * education_pct \n",
    "#education_pp"
   ]
  },
  {
   "cell_type": "code",
   "execution_count": 16,
   "metadata": {},
   "outputs": [],
   "source": [
    "education_change = change_abs(education_total)\n",
    "#education_change"
   ]
  },
  {
   "cell_type": "code",
   "execution_count": 17,
   "metadata": {},
   "outputs": [],
   "source": [
    "education_change_pct = change_pct(education_total)\n",
    "#education_change_pct"
   ]
  },
  {
   "cell_type": "markdown",
   "metadata": {},
   "source": [
    "### Healthcare Expenditure"
   ]
  },
  {
   "cell_type": "code",
   "execution_count": 18,
   "metadata": {},
   "outputs": [],
   "source": [
    "health_pct = read_data(\"../data/raw data/Health%GDP.csv\", 2, 1)\n",
    "#health_pct\n",
    "health_pct = health_pct / 100"
   ]
  },
  {
   "cell_type": "code",
   "execution_count": 19,
   "metadata": {},
   "outputs": [],
   "source": [
    "health_pp = read_data(\"../data/raw data/HealthPP.csv\", 2, 1)\n",
    "#health_pp"
   ]
  },
  {
   "cell_type": "code",
   "execution_count": 20,
   "metadata": {
    "scrolled": false
   },
   "outputs": [],
   "source": [
    "health_total = GDP_total * health_pct\n",
    "health_total[\"total\"] = health_total.loc[:,years].sum(1)\n",
    "#health_total"
   ]
  },
  {
   "cell_type": "code",
   "execution_count": 21,
   "metadata": {},
   "outputs": [],
   "source": [
    "health_change = change_abs(health_total)\n",
    "#health_change"
   ]
  },
  {
   "cell_type": "code",
   "execution_count": 22,
   "metadata": {},
   "outputs": [],
   "source": [
    "health_change_pct = change_pct(health_total)\n",
    "#health_change_pct"
   ]
  },
  {
   "cell_type": "markdown",
   "metadata": {},
   "source": [
    "### Create cleaned data"
   ]
  },
  {
   "cell_type": "code",
   "execution_count": 23,
   "metadata": {},
   "outputs": [],
   "source": [
    "def update(df):\n",
    "    df.index.names = [\"Country\"]\n",
    "    df.reset_index(drop=False, inplace=True)\n",
    "    for i in range(0,len(G20_codes)):\n",
    "        df.ix[i,\"Country\"] = country_names[i]\n",
    "    return df"
   ]
  },
  {
   "cell_type": "code",
   "execution_count": 24,
   "metadata": {},
   "outputs": [],
   "source": [
    "dict_df = {\"GDP_total\" : GDP_total, \n",
    "           \"GDP_pp\" : GDP_pp,\n",
    "           \"military_total\" : military_total,\n",
    "           \"military_pp\" : military_pp,\n",
    "           \"military_pct\" : military_pct,\n",
    "           \"military_change\" : military_change,\n",
    "           \"military_change_pct\" : military_change_pct,\n",
    "           \"health_total\" : health_total,\n",
    "           \"health_pp\" : health_pp,\n",
    "           \"health_pct\" : health_pct,\n",
    "           \"health_change\" : health_change,\n",
    "           \"health_change_pct\" : health_change_pct,\n",
    "           \"education_total\" : education_total,\n",
    "           \"education_pp\" : education_pp,\n",
    "           \"education_pct\" : education_pct,\n",
    "           \"education_change\" : education_change,\n",
    "           \"education_change_pct\" : education_change_pct}"
   ]
  },
  {
   "cell_type": "code",
   "execution_count": 25,
   "metadata": {},
   "outputs": [],
   "source": [
    "for name, df in dict_df.items():\n",
    "    dict_df[name] = update(dict_df[name])\n",
    "    dict_df[name].to_csv(path_or_buf=\"../data/cleaned data/\" + name + \".csv\", index = False)"
   ]
  }
 ],
 "metadata": {
  "kernelspec": {
   "display_name": "Python 3",
   "language": "python",
   "name": "python3"
  },
  "language_info": {
   "codemirror_mode": {
    "name": "ipython",
    "version": 3
   },
   "file_extension": ".py",
   "mimetype": "text/x-python",
   "name": "python",
   "nbconvert_exporter": "python",
   "pygments_lexer": "ipython3",
   "version": "3.7.4"
  }
 },
 "nbformat": 4,
 "nbformat_minor": 2
}
